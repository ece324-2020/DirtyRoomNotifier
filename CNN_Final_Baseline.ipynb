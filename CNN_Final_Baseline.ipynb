{
  "nbformat": 4,
  "nbformat_minor": 0,
  "metadata": {
    "colab": {
      "name": "Initial_Plan.ipynb",
      "provenance": []
    },
    "kernelspec": {
      "name": "python3",
      "display_name": "Python 3"
    }
  },
  "cells": [
    {
      "cell_type": "code",
      "metadata": {
        "id": "IEWsH7WLi3iC",
        "colab": {
          "base_uri": "https://localhost:8080/"
        },
        "outputId": "e54df3a6-7a63-434b-edf0-afbfafbfc0cd"
      },
      "source": [
        "from google.colab import drive\n",
        "drive.mount('/content/drive')"
      ],
      "execution_count": 5,
      "outputs": [
        {
          "output_type": "stream",
          "text": [
            "Mounted at /content/drive\n"
          ],
          "name": "stdout"
        }
      ]
    },
    {
      "cell_type": "code",
      "metadata": {
        "id": "6jb-yWTr-l9g"
      },
      "source": [
        "import torch\n",
        "import torchvision\n",
        "import torchvision.transforms as transforms\n",
        "import torch.nn as nn\n",
        "import torch.nn.functional as F\n",
        "import torch.optim as optim\n",
        "from torch.utils.data import DataLoader\n",
        "\n",
        "\n",
        "import time\n",
        "\n",
        "from sklearn.preprocessing import LabelEncoder, OneHotEncoder\n",
        "from sklearn.model_selection import train_test_split\n",
        "\n",
        "\n",
        "import matplotlib.pyplot as plt\n",
        "import numpy as np\n",
        "\n",
        "from PIL import Image\n",
        "\n",
        "from torchsummary import summary"
      ],
      "execution_count": 6,
      "outputs": []
    },
    {
      "cell_type": "markdown",
      "metadata": {
        "id": "Jv5Y0n7C7hsd"
      },
      "source": [
        "##Normalizing the pictures"
      ]
    },
    {
      "cell_type": "code",
      "metadata": {
        "id": "iWgYil-X8fAf"
      },
      "source": [
        "transform = transforms.Compose(\n",
        "    [transforms.ToTensor(),\n",
        "     transforms.Resize((56, 56))])"
      ],
      "execution_count": 8,
      "outputs": []
    },
    {
      "cell_type": "code",
      "metadata": {
        "id": "FCTHOUyU0Ojy"
      },
      "source": [
        "#Loading the data\n",
        "wholeData = torchvision.datasets.ImageFolder(\"/content/drive/MyDrive/DirtyRoomNotifier_Data/Data\", transform=transform)\n",
        "classes = ('0','1') \n",
        "# Clean = 0, Not clean = 1"
      ],
      "execution_count": 9,
      "outputs": []
    },
    {
      "cell_type": "code",
      "metadata": {
        "id": "7C8zdjlt8Z-S"
      },
      "source": [
        "wholeImages = []\n",
        "for i in range(len(wholeData)):\n",
        "  wholeImages = wholeImages + [wholeData[i][0]]\n",
        "wholeImages = torch.stack(wholeImages)\n"
      ],
      "execution_count": 10,
      "outputs": []
    },
    {
      "cell_type": "code",
      "metadata": {
        "colab": {
          "base_uri": "https://localhost:8080/"
        },
        "id": "vx7qE3nx8yhy",
        "outputId": "0d45a09d-8f14-4bc4-c459-bf8307267940"
      },
      "source": [
        "color1 = wholeImages[:,0,:,:]\n",
        "color2 = wholeImages[:,1,:,:]\n",
        "color3 = wholeImages[:,2,:,:]\n",
        "\n",
        "color1_mean = color1.mean()\n",
        "print(\"color1 mean is:\",color1_mean)\n",
        "color2_mean = color2.mean()\n",
        "print(\"color2 mean is:\",color2_mean)\n",
        "color3_mean = color3.mean()\n",
        "print(\"color1 mean is:\",color3_mean)\n",
        "\n",
        "color1_std = color1.std()\n",
        "print(\"color1 std is:\",color1_std)\n",
        "color2_std = color2.std()\n",
        "print(\"color2 std is:\",color2_std)\n",
        "color3_std = color3.std()\n",
        "print(\"color1 std is:\",color3_std)\n",
        "\n",
        "mean = [color1_mean,color2_mean,color3_mean]\n",
        "std = [color1_std,color2_std,color3_std]"
      ],
      "execution_count": 11,
      "outputs": [
        {
          "output_type": "stream",
          "text": [
            "color1 mean is: tensor(0.5212)\n",
            "color2 mean is: tensor(0.4891)\n",
            "color1 mean is: tensor(0.4484)\n",
            "color1 std is: tensor(0.2280)\n",
            "color2 std is: tensor(0.2271)\n",
            "color1 std is: tensor(0.2336)\n"
          ],
          "name": "stdout"
        }
      ]
    },
    {
      "cell_type": "code",
      "metadata": {
        "id": "UjMsR1jG8429"
      },
      "source": [
        "transform_img = transforms.Compose(\n",
        "    [transforms.ToTensor(),\n",
        "     transforms.Resize((56, 56)),\n",
        "     transforms.Normalize(mean,std)])"
      ],
      "execution_count": 12,
      "outputs": []
    },
    {
      "cell_type": "code",
      "metadata": {
        "id": "rqyB4XJT87Fs"
      },
      "source": [
        "dataset = torchvision.datasets.ImageFolder(\"/content/drive/MyDrive/DirtyRoomNotifier_Data/Data\", transform=transform_img)\n",
        "classes = ('0','1') "
      ],
      "execution_count": 13,
      "outputs": []
    },
    {
      "cell_type": "code",
      "metadata": {
        "id": "8NKenhcc1xHJ"
      },
      "source": [
        "img = []\n",
        "label = []\n",
        "for i in range(len(dataset)):\n",
        "  img = img + [dataset[i][0]]\n",
        "  label= label + [torch.tensor(dataset[i][1])]\n",
        "\n",
        "images = torch.stack(img)\n",
        "label = torch.stack(label)"
      ],
      "execution_count": 14,
      "outputs": []
    },
    {
      "cell_type": "code",
      "metadata": {
        "id": "ZBnZYx5tzYf6"
      },
      "source": [
        "#Spliting to test, Validation, and training set\n",
        "tvd, testd, tvl, testl = train_test_split(images, label, test_size = 0.1, random_state = 0)\n",
        "td, vd, tl, vl = train_test_split(tvd, tvl, test_size = 0.2, random_state = 0)"
      ],
      "execution_count": 46,
      "outputs": []
    },
    {
      "cell_type": "code",
      "metadata": {
        "colab": {
          "base_uri": "https://localhost:8080/"
        },
        "id": "-O7Ni7LM6mL9",
        "outputId": "b1ff89b8-9763-449c-d0c9-e13f77420bbc"
      },
      "source": [
        "#testing if the data has been normalized\n",
        "col1 = td[:,0,:,:]\n",
        "print(\"mean of channel 1 is:\", col1.mean().item())\n",
        "print(\"the std of channel 1 is:\", col1.std().item())\n",
        "\n",
        "col2 = td[:,1,:,:]\n",
        "print(\"mean of channel 2 is:\",col2.mean().item())\n",
        "print(\"the std of channel 2 is:\",col2.std().item())\n",
        "\n",
        "col3 = td[:,2,:,:]\n",
        "print(\"mean of channel 3 is:\",col3.mean().item())\n",
        "print(\"the std of channel 3 is:\",col3.std().item())\n",
        "\n",
        "#since the means are 0 and the stds are 1, we can conlude that the photos have \n",
        "#been normalized"
      ],
      "execution_count": 47,
      "outputs": [
        {
          "output_type": "stream",
          "text": [
            "mean of channel 1 is: 0.0006493567489087582\n",
            "the std of channel 1 is: 1.004882574081421\n",
            "mean of channel 2 is: 0.0015121728647500277\n",
            "the std of channel 2 is: 1.0062392950057983\n",
            "mean of channel 3 is: 0.0017199161229655147\n",
            "the std of channel 3 is: 1.0079920291900635\n"
          ],
          "name": "stdout"
        }
      ]
    },
    {
      "cell_type": "markdown",
      "metadata": {
        "id": "2rI97EteA59p"
      },
      "source": [
        "## Hyperparameter Search "
      ]
    },
    {
      "cell_type": "code",
      "metadata": {
        "id": "QHbw8AFV_Qva"
      },
      "source": [
        "import torch.utils.data as data\n",
        "\n",
        "class Room(data.Dataset):\n",
        "\n",
        "    def __init__(self,X,y):\n",
        "        self.X = X\n",
        "        self.y = y\n",
        "\n",
        "    def __len__(self):\n",
        "        return(len(self.X))\n",
        "\n",
        "    def __getitem__(self,index):\n",
        "        img = self.X[index]\n",
        "        label = self.y[index]\n",
        "        return img,label"
      ],
      "execution_count": 48,
      "outputs": []
    },
    {
      "cell_type": "code",
      "metadata": {
        "id": "0DOlM4KSCzb1"
      },
      "source": [
        "def load_data(batch):\n",
        "  tds = Room(td, tl)\n",
        "  vds = Room(vd, vl)\n",
        "  testds = Room(testd, testl)\n",
        "  trLoader = DataLoader(tds,batch_size=batch,shuffle=True)\n",
        "  vaLoader = DataLoader(vds,batch_size=batch,shuffle=True)\n",
        "  testLoader = DataLoader(testds,batch_size=batch,shuffle=True)\n",
        "  return trLoader, vaLoader, testLoader"
      ],
      "execution_count": 49,
      "outputs": []
    },
    {
      "cell_type": "code",
      "metadata": {
        "id": "U2dKQlQEC1J6"
      },
      "source": [
        "def correct(predict,labels):\n",
        "  corr = 0\n",
        "  predict = predict.detach().numpy()\n",
        "  labels = labels.detach().numpy()  \n",
        "\n",
        "  for i in range(0,len(predict)):\n",
        "    if predict[i] >= 0.5 and labels[i] == 1:\n",
        "      corr += 1 \n",
        "    elif predict[i] < 0.5 and labels[i] == 0:\n",
        "      corr += 1\n",
        "  return corr"
      ],
      "execution_count": 50,
      "outputs": []
    },
    {
      "cell_type": "code",
      "metadata": {
        "id": "Q8CN2R1qPnua"
      },
      "source": [
        "def evaluate(model, vaLoader):\n",
        "  corr = 0\n",
        "  tot_loss = 0\n",
        "  tempo_loss = []\n",
        "  acc = 0\n",
        "  accRec = []\n",
        "  for vaData, vaLabel in vaLoader:\n",
        "    predicts = model(vaData)\n",
        "    loss = loss_func(input = predicts.squeeze(), target = vaLabel.float())\n",
        "    tempo_loss.append(loss.item())\n",
        "    for i in range(0, len(predicts)):\n",
        "      if predicts[i] >= 0.5 and vaLabel[i] == 1:\n",
        "        corr += 1\n",
        "      elif predicts[i] < 0.5 and vaLabel[i] == 0:\n",
        "        corr += 1\n",
        "    accRec.append(corr/len(predicts))\n",
        "    corr = 0    \n",
        "  acc = sum(accRec)/len(accRec)\n",
        "  tot_loss = sum(tempo_loss)/len(tempo_loss)\n",
        "  return acc, tot_loss\n",
        "\n",
        "    \n"
      ],
      "execution_count": 137,
      "outputs": []
    },
    {
      "cell_type": "markdown",
      "metadata": {
        "id": "RtWeaNL8Dom6"
      },
      "source": [
        "### Trial 1: 2 conco layer / 10 kernels / 32 neurons / 0.1 Lr / 4 Batch\n"
      ]
    },
    {
      "cell_type": "code",
      "metadata": {
        "id": "3aB2hvooDS0z"
      },
      "source": [
        "import torch.nn as nn\n",
        "import torch.nn.functional as F\n",
        "\n",
        "class Net(nn.Module):\n",
        "  def __init__(self):\n",
        "    super(Net,self).__init__()\n",
        "    self.con1 = nn.Conv2d(3, 10, 3)\n",
        "    self.pool1 = nn.MaxPool2d(2,2, padding=1)\n",
        "    self.con2 = nn.Conv2d(10,10,3)\n",
        "    self.pool2 = nn.MaxPool2d(2,2)\n",
        "    self.fc1 = nn.Linear(13*13*10,32)\n",
        "    self.fc2 = nn.Linear(32, 1)\n",
        "  def forward(self,x):\n",
        "    x = self.pool1(F.relu(self.con1(x)))\n",
        "    x = self.pool2(F.relu(self.con2(x)))\n",
        "    x = x.view(-1, 10*13*13)\n",
        "    x = F.relu(self.fc1(x))\n",
        "    x = F.relu(self.fc2(x))\n",
        "    return x\n"
      ],
      "execution_count": 75,
      "outputs": []
    },
    {
      "cell_type": "code",
      "metadata": {
        "id": "5PJ5Rb_XDxOF"
      },
      "source": [
        "epoch = 1000\n",
        "lr = 0.01\n",
        "batch = 10\n",
        "seed = 10\n",
        "\n",
        "model = Net()\n",
        "loss_func = nn.MSELoss()\n",
        "optimizer = torch.optim.SGD(model.parameters(), lr=lr)"
      ],
      "execution_count": 145,
      "outputs": []
    },
    {
      "cell_type": "code",
      "metadata": {
        "colab": {
          "base_uri": "https://localhost:8080/"
        },
        "id": "G2srXmiWsKZF",
        "outputId": "fbb4ffb9-ee97-4b6d-b6c3-73699d96fde9"
      },
      "source": [
        "start = time.time()\n",
        "\n",
        "trLoader, vaLoader, testLoader = load_data(batch)\n",
        "\n",
        "#Graph\n",
        "acc = []\n",
        "validation_acc = []\n",
        "validation_loss = []\n",
        "loss_rec = []\n",
        "steps = []\n",
        "step = 0\n",
        "accuracy = 0\n",
        "\n",
        "#Epoch\n",
        "for n in range(0, epoch):\n",
        "  corr = 0 \n",
        "  for trdata, trLabel in trLoader:\n",
        "\n",
        "    optimizer.zero_grad()\n",
        "    predicts = model(trdata)\n",
        "    loss = loss_func(input = predicts.squeeze(), target = trLabel.float())\n",
        "    loss.backward()\n",
        "    optimizer.step()\n",
        "\n",
        "    corr = correct(predicts, trLabel)\n",
        "    accuracy = corr / len(predicts)\n",
        "\n",
        "    if step % 100 == 0:\n",
        "      acc.append(accuracy)\n",
        "      loss_rec.append(loss.item())\n",
        "      model.eval()\n",
        "      val_acc, val_loss = evaluate(model, vaLoader)\n",
        "      validation_acc.append(val_acc)\n",
        "      validation_loss.append(val_loss)\n",
        "      model.train()\n",
        "      steps.append(step)\n",
        "    step += 1\n",
        "stop = time.time()\n",
        "print(stop-start)"
      ],
      "execution_count": 146,
      "outputs": [
        {
          "output_type": "stream",
          "text": [
            "389.44041991233826\n"
          ],
          "name": "stdout"
        }
      ]
    },
    {
      "cell_type": "code",
      "metadata": {
        "colab": {
          "base_uri": "https://localhost:8080/",
          "height": 312
        },
        "id": "Kwsy-3sB_yoV",
        "outputId": "c9165daa-f3a2-4dd5-d5cd-07483fb93f48"
      },
      "source": [
        "plt.plot(steps,acc,color = 'black')\n",
        "plt.plot(steps, validation_acc,color = 'blue')\n",
        "plt.title('Accuracy (nEp:{},L_r:{},batch:{},N:{})'.format(epoch,lr,4,4))\n",
        "plt.xlabel('Steps')\n",
        "plt.ylabel('Accuracy')"
      ],
      "execution_count": 147,
      "outputs": [
        {
          "output_type": "execute_result",
          "data": {
            "text/plain": [
              "Text(0, 0.5, 'Accuracy')"
            ]
          },
          "metadata": {
            "tags": []
          },
          "execution_count": 147
        },
        {
          "output_type": "display_data",
          "data": {
            "image/png": "[encoded data removed]",
            "text/plain": [
              "<Figure size 432x288 with 1 Axes>"
            ]
          },
          "metadata": {
            "tags": [],
            "needs_background": "light"
          }
        }
      ]
    },
    {
      "cell_type": "code",
      "metadata": {
        "colab": {
          "base_uri": "https://localhost:8080/",
          "height": 312
        },
        "id": "VkHPkFwk_6Ku",
        "outputId": "6a167f27-95f1-4325-a641-c6f23c08967a"
      },
      "source": [
        "plt.plot(steps,loss_rec,color = 'black')\n",
        "plt.plot(steps, validation_loss,color = 'blue')\n",
        "plt.legend(['Training', 'validation'])\n",
        "plt.title('Loss (nEp:{},L_r:{},batch:{},N:{})'.format(epoch,lr,4,4))\n",
        "plt.xlabel('Steps')\n",
        "plt.ylabel('Loss')"
      ],
      "execution_count": 149,
      "outputs": [
        {
          "output_type": "execute_result",
          "data": {
            "text/plain": [
              "Text(0, 0.5, 'Loss')"
            ]
          },
          "metadata": {
            "tags": []
          },
          "execution_count": 149
        },
        {
          "output_type": "display_data",
          "data": {
            "image/png": "[encoded data removed]",
            "text/plain": [
              "<Figure size 432x288 with 1 Axes>"
            ]
          },
          "metadata": {
            "tags": [],
            "needs_background": "light"
          }
        }
      ]
    },
    {
      "cell_type": "code",
      "metadata": {
        "id": "AVJZGcjsWucx"
      },
      "source": [
        "torch.save(model,'baseline.pt2')"
      ],
      "execution_count": 150,
      "outputs": []
    },
    {
      "cell_type": "code",
      "metadata": {
        "colab": {
          "base_uri": "https://localhost:8080/"
        },
        "id": "Dy_yIG72W_9Q",
        "outputId": "85de61d4-7b31-46cc-f064-e86f08b60869"
      },
      "source": [
        "test_acc, test_loss = evaluate(model,testLoader)\n",
        "print('The accuracy of the test data set is:',test_acc)\n",
        "print('The loss of the test data set is:',test_loss)"
      ],
      "execution_count": 163,
      "outputs": [
        {
          "output_type": "stream",
          "text": [
            "The accuracy of the test data set is: 0.9666666666666667\n",
            "The loss of the test data set is: 0.06483642632762592\n"
          ],
          "name": "stdout"
        }
      ]
    }
  ]
}